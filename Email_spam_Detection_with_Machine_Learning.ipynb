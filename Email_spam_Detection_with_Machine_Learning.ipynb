{
  "nbformat": 4,
  "nbformat_minor": 0,
  "metadata": {
    "colab": {
      "provenance": [],
      "authorship_tag": "ABX9TyM8Gx2Bgiysjj/0aryWLTPQ",
      "include_colab_link": true
    },
    "kernelspec": {
      "name": "python3",
      "display_name": "Python 3"
    },
    "language_info": {
      "name": "python"
    }
  },
  "cells": [
    {
      "cell_type": "markdown",
      "metadata": {
        "id": "view-in-github",
        "colab_type": "text"
      },
      "source": [
        "<a href=\"https://colab.research.google.com/github/AparnaMounikau763/OIBSIP/blob/main/Email_spam_Detection_with_Machine_Learning.ipynb\" target=\"_parent\"><img src=\"https://colab.research.google.com/assets/colab-badge.svg\" alt=\"Open In Colab\"/></a>"
      ]
    },
    {
      "cell_type": "markdown",
      "source": [
        "**Import Libraries**"
      ],
      "metadata": {
        "id": "ojkkhlRC6xDg"
      }
    },
    {
      "cell_type": "code",
      "execution_count": null,
      "metadata": {
        "id": "O1vXCbqQ6pLw"
      },
      "outputs": [],
      "source": [
        "import pandas as pd\n",
        "import numpy as np\n",
        "from sklearn.model_selection import train_test_split\n",
        "from sklearn.feature_extraction.text import CountVectorizer, TfidfVectorizer\n",
        "from sklearn.naive_bayes import MultinomialNB\n",
        "from sklearn.metrics import accuracy_score, classification_report, confusion_matrix\n"
      ]
    },
    {
      "cell_type": "markdown",
      "source": [
        "**Load the Dataset**"
      ],
      "metadata": {
        "id": "xV5fPUe764Ow"
      }
    },
    {
      "cell_type": "code",
      "source": [
        "# Load dataset\n",
        "df = pd.read_csv('/content/spam.csv', encoding='latin-1')\n",
        "\n",
        "# Drop unnecessary columns if they exist\n",
        "df = df[['v1', 'v2']]  # v1: label (ham/spam), v2: message text\n",
        "df.columns = ['label', 'message']  # Rename columns for clarity\n",
        "\n",
        "# Display the first few rows\n",
        "print(df.head())\n"
      ],
      "metadata": {
        "colab": {
          "base_uri": "https://localhost:8080/"
        },
        "id": "KVqgd9hi67WO",
        "outputId": "f81a6370-bd54-4d62-a7c0-9cd2d254b733"
      },
      "execution_count": null,
      "outputs": [
        {
          "output_type": "stream",
          "name": "stdout",
          "text": [
            "  label                                            message\n",
            "0   ham  Go until jurong point, crazy.. Available only ...\n",
            "1   ham                      Ok lar... Joking wif u oni...\n",
            "2  spam  Free entry in 2 a wkly comp to win FA Cup fina...\n",
            "3   ham  U dun say so early hor... U c already then say...\n",
            "4   ham  Nah I don't think he goes to usf, he lives aro...\n"
          ]
        }
      ]
    },
    {
      "cell_type": "markdown",
      "source": [
        "**Data Preprocessing**"
      ],
      "metadata": {
        "id": "YkNKb6bD9pHX"
      }
    },
    {
      "cell_type": "code",
      "source": [
        "# Convert labels to binary values\n",
        "df['label'] = df['label'].map({'ham': 0, 'spam': 1})\n",
        "\n",
        "# Check for missing values\n",
        "df.isnull().sum()\n",
        "\n",
        "# Optional: Text preprocessing (remove punctuation, lowercase, etc.)\n",
        "import string\n",
        "df['message'] = df['message'].str.lower()\n",
        "df['message'] = df['message'].str.translate(str.maketrans('', '', string.punctuation))\n",
        "\n",
        "# Display processed data\n",
        "print(df.head())\n"
      ],
      "metadata": {
        "colab": {
          "base_uri": "https://localhost:8080/"
        },
        "id": "vqfQJ8Eg_iUz",
        "outputId": "c06baf9f-80aa-42b0-a0cd-638c269adc89"
      },
      "execution_count": null,
      "outputs": [
        {
          "output_type": "stream",
          "name": "stdout",
          "text": [
            "   label                                            message\n",
            "0      0  go until jurong point crazy available only in ...\n",
            "1      0                            ok lar joking wif u oni\n",
            "2      1  free entry in 2 a wkly comp to win fa cup fina...\n",
            "3      0        u dun say so early hor u c already then say\n",
            "4      0  nah i dont think he goes to usf he lives aroun...\n"
          ]
        }
      ]
    },
    {
      "cell_type": "markdown",
      "source": [
        "**Split the Data**"
      ],
      "metadata": {
        "id": "3xnxD2-U_n5m"
      }
    },
    {
      "cell_type": "code",
      "source": [
        "X_train, X_test, y_train, y_test = train_test_split(df['message'], df['label'], test_size=0.2, random_state=42)\n",
        "\n",
        "print(f\"Training samples: {X_train.shape[0]}, Testing samples: {X_test.shape[0]}\")\n",
        "\n"
      ],
      "metadata": {
        "colab": {
          "base_uri": "https://localhost:8080/"
        },
        "id": "Zb2_zHf3_j62",
        "outputId": "c785ed17-a0c5-4c25-b720-fe8741403ec8"
      },
      "execution_count": null,
      "outputs": [
        {
          "output_type": "stream",
          "name": "stdout",
          "text": [
            "Training samples: 4457, Testing samples: 1115\n"
          ]
        }
      ]
    },
    {
      "cell_type": "markdown",
      "source": [
        "**Feature Extraction**"
      ],
      "metadata": {
        "id": "Wxe3svr5_upB"
      }
    },
    {
      "cell_type": "code",
      "source": [
        "# Initialize the vectorizer\n",
        "vectorizer = TfidfVectorizer(stop_words='english')\n",
        "\n",
        "# Fit and transform the training data\n",
        "X_train_vect = vectorizer.fit_transform(X_train)\n",
        "\n",
        "# Transform the testing data\n",
        "X_test_vect = vectorizer.transform(X_test)\n"
      ],
      "metadata": {
        "id": "SD1snjC5_wxV"
      },
      "execution_count": null,
      "outputs": []
    },
    {
      "cell_type": "markdown",
      "source": [
        "**Train the Model**"
      ],
      "metadata": {
        "id": "oZKdXho__3QK"
      }
    },
    {
      "cell_type": "code",
      "source": [
        "# Initialize the model\n",
        "model = MultinomialNB()\n",
        "\n",
        "# Train the model\n",
        "model.fit(X_train_vect, y_train)\n",
        "\n",
        "# Make predictions\n",
        "y_pred = model.predict(X_test_vect)\n"
      ],
      "metadata": {
        "id": "sPIxOwnG_zMo"
      },
      "execution_count": null,
      "outputs": []
    },
    {
      "cell_type": "markdown",
      "source": [
        "**Evaluate the Model**"
      ],
      "metadata": {
        "id": "jxTulJSR__og"
      }
    },
    {
      "cell_type": "code",
      "source": [
        "# Calculate accuracy\n",
        "accuracy = accuracy_score(y_test, y_pred)\n",
        "print(f\"Accuracy: {accuracy*100:.2f}%\")\n",
        "\n",
        "# Display classification report\n",
        "print(\"Classification Report:\")\n",
        "print(classification_report(y_test, y_pred))\n",
        "\n",
        "# Display confusion matrix\n",
        "print(\"Confusion Matrix:\")\n",
        "print(confusion_matrix(y_test, y_pred))\n"
      ],
      "metadata": {
        "colab": {
          "base_uri": "https://localhost:8080/"
        },
        "id": "JhRxQBplAEgc",
        "outputId": "87dd9c04-0266-4324-c2a1-10c3d5adacf9"
      },
      "execution_count": null,
      "outputs": [
        {
          "output_type": "stream",
          "name": "stdout",
          "text": [
            "Accuracy: 96.77%\n",
            "Classification Report:\n",
            "              precision    recall  f1-score   support\n",
            "\n",
            "           0       0.96      1.00      0.98       965\n",
            "           1       1.00      0.76      0.86       150\n",
            "\n",
            "    accuracy                           0.97      1115\n",
            "   macro avg       0.98      0.88      0.92      1115\n",
            "weighted avg       0.97      0.97      0.97      1115\n",
            "\n",
            "Confusion Matrix:\n",
            "[[965   0]\n",
            " [ 36 114]]\n"
          ]
        }
      ]
    },
    {
      "cell_type": "markdown",
      "source": [
        "**Predict New Samples**"
      ],
      "metadata": {
        "id": "DT_a5uJBAIcj"
      }
    },
    {
      "cell_type": "code",
      "source": [
        "new_emails = [\"Free entry in 2 a weekly competition to win FA Cup final tickets! Text FA to 87121 to receive entry question\",\n",
        "              \"Hello, how are you?\"]\n",
        "\n",
        "# Transform new samples\n",
        "new_emails_vect = vectorizer.transform(new_emails)\n",
        "\n",
        "# Make predictions\n",
        "predictions = model.predict(new_emails_vect)\n",
        "\n",
        "# Output predictions\n",
        "for i, email in enumerate(new_emails):\n",
        "    print(f\"Email: {email}\\nPrediction: {'Spam' if predictions[i] == 1 else 'Ham'}\\n\")\n"
      ],
      "metadata": {
        "colab": {
          "base_uri": "https://localhost:8080/"
        },
        "id": "Rg6Te47fAE9a",
        "outputId": "e697ac58-fd32-47fb-e655-0c850a8fa736"
      },
      "execution_count": null,
      "outputs": [
        {
          "output_type": "stream",
          "name": "stdout",
          "text": [
            "Email: Free entry in 2 a weekly competition to win FA Cup final tickets! Text FA to 87121 to receive entry question\n",
            "Prediction: Spam\n",
            "\n",
            "Email: Hello, how are you?\n",
            "Prediction: Ham\n",
            "\n"
          ]
        }
      ]
    },
    {
      "cell_type": "markdown",
      "source": [
        "**Save the Model and Vectorizer**"
      ],
      "metadata": {
        "id": "HXM2ARIGAQm5"
      }
    },
    {
      "cell_type": "code",
      "source": [
        "import joblib\n",
        "\n",
        "# Save the model\n",
        "joblib.dump(model, '/content/spam_detector_model.pkl')\n",
        "\n",
        "# Save the vectorizer\n",
        "joblib.dump(vectorizer, '/content/vectorizer.pkl')\n"
      ],
      "metadata": {
        "colab": {
          "base_uri": "https://localhost:8080/"
        },
        "id": "pipVFVdmAL02",
        "outputId": "ab00630b-913f-4208-e421-ae947ebbe6d0"
      },
      "execution_count": null,
      "outputs": [
        {
          "output_type": "execute_result",
          "data": {
            "text/plain": [
              "['/content/vectorizer.pkl']"
            ]
          },
          "metadata": {},
          "execution_count": 21
        }
      ]
    },
    {
      "cell_type": "markdown",
      "source": [
        "**Load and Use the Model**"
      ],
      "metadata": {
        "id": "CTL_0V1-AWLP"
      }
    },
    {
      "cell_type": "code",
      "source": [
        "# Load the model and vectorizer\n",
        "model = joblib.load('spam_detector_model.pkl')\n",
        "vectorizer = joblib.load('vectorizer.pkl')\n",
        "\n",
        "# Transform new samples and predict\n",
        "new_emails_vect = vectorizer.transform(new_emails)\n",
        "predictions = model.predict(new_emails_vect)\n",
        "\n",
        "# Output predictions\n",
        "for i, email in enumerate(new_emails):\n",
        "    print(f\"Email: {email}\\nPrediction: {'Spam' if predictions[i] == 1 else 'Ham'}\\n\")\n"
      ],
      "metadata": {
        "colab": {
          "base_uri": "https://localhost:8080/"
        },
        "id": "o7PQuzLDAZy2",
        "outputId": "ea2eecb4-d2b7-435c-a7f6-7dead4ba9a08"
      },
      "execution_count": null,
      "outputs": [
        {
          "output_type": "stream",
          "name": "stdout",
          "text": [
            "Email: Free entry in 2 a weekly competition to win FA Cup final tickets! Text FA to 87121 to receive entry question\n",
            "Prediction: Spam\n",
            "\n",
            "Email: Hello, how are you?\n",
            "Prediction: Ham\n",
            "\n"
          ]
        }
      ]
    }
  ]
}